{
 "cells": [
  {
   "cell_type": "markdown",
   "id": "63a99cfd-425b-47f0-a87f-686e658d8ad1",
   "metadata": {
    "tags": []
   },
   "source": [
    "# 2-Dimensional Iteration: Image Processing\n",
    "\n",
    "Two dimensional tables have both rows and columns. You have probably seen many tables like this if you have used a spreadsheet program. Another object that is organized in rows and columns is a digital image. In this section we will explore how iteration allows us to manipulate these images.\n",
    "\n",
    "A digital image is a finite collection of small, discrete picture elements called pixels. These pixels are organized in a two-dimensional grid. Each pixel represents the smallest amount of picture information that is available. Sometimes these pixels appear as small “dots”.\n",
    "\n",
    "Each image (grid of pixels) has its own width and its own height. The width is the number of columns and the height is the number of rows. We can name the pixels in the grid by using the column number and row number. However, it is very important to remember that computer scientists like to start counting with 0! This means that if there are 20 rows, they will be named 0,1,2, and so on through 19. This will be very useful later when we iterate using range.\n",
    "\n",
    "In the figure below, the pixel of interest is found at column c and row r.\n",
    "\n",
    "![](figures/image.png)\n",
    "\n",
    "## The RGB Color Model\n",
    "\n",
    "Each pixel of the image will represent a single color. The specific color depends on a formula that mixes various amounts of three basic colors: red, green, and blue. This technique for creating color is known as the RGB Color Model. The amount of each color, sometimes called the intensity of the color, allows us to have very fine control over the resulting color.\n",
    "\n",
    "The minimum intensity value for a basic color is 0. For example if the red intensity is 0, then there is no red in the pixel. The maximum intensity is 255. This means that there are actually 256 different amounts of intensity for each basic color. Since there are three basic colors, that means that you can create 2563 distinct colors using the RGB Color Model.\n",
    "\n",
    "Here are the red, green and blue intensities for some common colors. Note that “Black” is represented by a pixel having no basic color. On the other hand, “White” has maximum values for all three basic color components.\n",
    "\n",
    "|Color|Red|Green|Blue|\n",
    "|-----|---|-----|----|\n",
    "|red|255|0|0|\n",
    "|green|0|255|0|\n",
    "|blue|0|0|255|\n",
    "|white|255|255|255|\n",
    "|black|0|0|0|\n",
    "|yellow|255|255|0|\n",
    "|magenta|255|0|255|"
   ]
  },
  {
   "cell_type": "markdown",
   "id": "a2657a95-cc71-4b01-a88d-3eb1d4c896d6",
   "metadata": {
    "tags": []
   },
   "source": [
    "## The comp110_image Module\n",
    "\n",
    "In order to manipulate an image, we need to be able to access individual pixels. This capability is provided by a module called `comp110_image`. This image module defines two new types of objects: `Picture` and `Pixel`.\n",
    "\n",
    "### Pixel Objects\n",
    "\n",
    "Each Pixel object has three attributes: the red intensity, the green intensity, and the blue intensity. These intensity values can be accessed using the same dot notation we've seen before (e.g. `my_turtle.forward()`). The example below demonstrates creating a `Pixel` object and accessing its individual color intensities."
   ]
  },
  {
   "cell_type": "code",
   "execution_count": null,
   "id": "977775f0-091c-4147-8c02-38fed7d0b324",
   "metadata": {},
   "outputs": [],
   "source": [
    "import comp110_image\n",
    "\n",
    "p = comp110_image.Pixel([45, 76, 200])\n",
    "print(p.red) # use dot notation to access the pixel's red intensity value\n",
    "p.red = 66 # update the pixel's red intensity using assignment (=)\n",
    "print(p.red)\n",
    "p.blue = p.green\n",
    "print(p.green, p.blue)"
   ]
  },
  {
   "cell_type": "markdown",
   "id": "88ed1c19-4e77-43b4-ac0b-14e8f288c216",
   "metadata": {},
   "source": [
    "The `Pixel` object also has a special attribute named `color` that allows you to access or change all three intensity values at once. The example below demonstrates how to use this attributed."
   ]
  },
  {
   "cell_type": "code",
   "execution_count": null,
   "id": "eb439676-2fac-49a8-8149-28c1770e7657",
   "metadata": {},
   "outputs": [],
   "source": [
    "p = comp110_image.Pixel([45, 76, 200])\n",
    "print(p.color)\n",
    "p.color = [93, 220, 55] # change red to 93, green to 220, and blue to 55\n",
    "print(p.color)"
   ]
  },
  {
   "cell_type": "markdown",
   "id": "10efadc9-8f3c-426d-9176-12eef515476a",
   "metadata": {},
   "source": [
    "To avoid logical inconsistencies, the `Pixel` object checks that all intensity values are integers within the valid range of 0 to 255. Try modifying the code above to set one of the intensities to a negative value or one greater than 255. Run the code again and see what happens."
   ]
  },
  {
   "cell_type": "markdown",
   "id": "5124f2da-6608-4c39-999f-3dd380446138",
   "metadata": {},
   "source": [
    "### Picture Objects\n",
    "\n",
    "To access the pixels in a real image, we need to first create a `Picture` object. Picture objects can be created in two ways.\n",
    "\n",
    "1. By specifying the digital image file (e.g. `spiderman.jpg`). The resulting Picture object will mirror that of the image stored in the file.\n",
    "\n",
    "2. By specifying only a width and a height. This will result in a Picture object that contains only black Pixels.\n",
    "\n",
    "The example below demonstrates both ways of creating Picture objects."
   ]
  },
  {
   "cell_type": "code",
   "execution_count": null,
   "id": "2fca25b1-0efa-46a8-ae92-1c210843af65",
   "metadata": {},
   "outputs": [],
   "source": [
    "import comp110_image\n",
    "\n",
    "medallion = comp110_image.Picture(filename=\"figures/usd-medallion.png\")\n",
    "medallion.show()\n",
    "\n",
    "blank = comp110_image.Picture(150, 60) # create a 150x60 picture that is all black\n",
    "blank.show()"
   ]
  },
  {
   "cell_type": "markdown",
   "id": "05bb3453-3b93-4fc6-8e44-6d263f22ff10",
   "metadata": {},
   "source": [
    "When creating the medallion object on line 3, notice how the assignment operator was used. This is an example of a **keyword argument**, which requires us to specify the name of the parameter (in this case `filename`) in addition to the value to be assigned to it. This style is required when creating a Picture object from a file.\n",
    "\n",
    "Conversely, when creating the blank image on line 6, we used the familiar style of writing only the values to be used. You could have also used the keyword argument style, as demonstrated below."
   ]
  },
  {
   "cell_type": "code",
   "execution_count": null,
   "id": "e82e3dad-a3df-48ac-97d7-cf149588381c",
   "metadata": {},
   "outputs": [],
   "source": [
    "blank2 = comp110_image.Picture(width=150, height=60)\n",
    "blank3 = comp110_image.Picture(height=60, width=150)\n",
    "\n",
    "blank2.show()\n",
    "blank3.show()"
   ]
  },
  {
   "cell_type": "markdown",
   "id": "88ca2118-8770-473e-8f81-e096bf0870cc",
   "metadata": {},
   "source": [
    "Using keyword arguments can make your code easier to read as it makes it clearer what each value means. As you saw with the previous example, it also allows you to put the parameters in whatever order you want.\n",
    "\n",
    "Each `Picture` object has several key attributes: its width, height, and 2D collection of Pixels. We can ask the picture for its width and height using the dot notation like we did with the intensity values in a Pixel. We can also access a specific Pixel in the picture using the `get_pixel` method and specifying the x and y coordinates of the Pixel.\n",
    "\n",
    "The example below demonstrates how we can use these attributes."
   ]
  },
  {
   "cell_type": "code",
   "execution_count": null,
   "id": "aea136dd-ceb0-4079-8dd2-e0e713efc119",
   "metadata": {},
   "outputs": [],
   "source": [
    "import comp110_image\n",
    "img = comp110_image.Picture(filename=\"figures/usd-medallion.png\")\n",
    "\n",
    "print(img.width)\n",
    "print(img.height)\n",
    "\n",
    "p = img.get_pixel(100, 60) # get the pixel near the center of the image\n",
    "print(p.color)"
   ]
  },
  {
   "cell_type": "markdown",
   "id": "2f6aec96-0f59-4a0f-bb6d-a935ce03596f",
   "metadata": {},
   "source": [
    "When you run the program you can see that the image has a width of 200 pixels and a height of 113 pixels. Also, the pixel at column 100, row 60, has RGB values of 54, 89, and 135. Try a few other pixel locations by changing the `get_pixel` arguments and rerunning the program."
   ]
  },
  {
   "cell_type": "markdown",
   "id": "d4a1dca9-114d-4fd6-8714-c58d4121b65d",
   "metadata": {
    "tags": []
   },
   "source": [
    "## Image Processing and Nested Iteration\n",
    "\n",
    "Image processing refers to the ability to manipulate the individual pixels in a digital image. In order to process all of the pixels, we need to be able to systematically visit all of the rows and columns in the image. The best way to do this is to use nested iteration.\n",
    "\n",
    "Nested iteration simply means that we will place one iteration construct inside of another. We will call these two iterations the **outer iteration** and the **inner iteration**. To see how this works, consider the iteration below."
   ]
  },
  {
   "cell_type": "code",
   "execution_count": null,
   "id": "53fa97e0-0634-4859-a6c9-2df5324def10",
   "metadata": {
    "tags": []
   },
   "outputs": [],
   "source": [
    "for i in range(5):\n",
    "    print(i)"
   ]
  },
  {
   "cell_type": "markdown",
   "id": "4550afbf-dd71-4e75-9f0a-0e712bc0a5d2",
   "metadata": {
    "tags": []
   },
   "source": [
    "We have seen this enough times to know that the value of i will be 0, then 1, then 2, and so on up to 4. The `print` will be performed once for each pass. However, the body of the loop can contain any statements _including another iteration_ (another `for` statement). For example,"
   ]
  },
  {
   "cell_type": "code",
   "execution_count": null,
   "id": "7ad3b593-d5c7-46c8-9f9e-f6557be8f62e",
   "metadata": {
    "tags": []
   },
   "outputs": [],
   "source": [
    "for i in range(5):\n",
    "    for j in range(3):\n",
    "        print(i, j)"
   ]
  },
  {
   "cell_type": "markdown",
   "id": "789c57ef-880c-40bb-b6e4-3a8cf3f07604",
   "metadata": {
    "tags": []
   },
   "source": [
    "The `for i` iteration is the outer iteration and the `for j` iteration is the inner iteration. Each pass through the outer iteration will result in the complete processing of the inner iteration from beginning to end. This means that the output from this nested iteration will show that for each value of `i`, all values of `j` will occur.\n",
    "\n",
    "If you haven't already done so, run the previous code sample. Note that the value of `i` stays the same while the value of `j` changes. The inner iteration, in effect, is moving _faster_ than the outer iteration.\n",
    "\n",
    "Another way to see this in more detail is to examine the behavior with codelens. Step through the iterations to see the flow of control as it occurs with the nested iteration. Again, for every value of `i`, all of the values of `j` will occur. You can see that the inner iteration completes before going on to the next pass of the outer iteration."
   ]
  },
  {
   "cell_type": "code",
   "execution_count": null,
   "id": "3dd88d58-61b8-47b3-ac40-d55b0a88cd3e",
   "metadata": {
    "jupyter": {
     "source_hidden": true
    },
    "tags": []
   },
   "outputs": [],
   "source": [
    "%%html\n",
    "<iframe width=\"800\" height=\"300\" frameborder=\"0\" src=\"https://pythontutor.com/iframe-embed.html#code=for%20i%20in%20range%285%29%3A%0A%20%20%20%20for%20j%20in%20range%283%29%3A%0A%20%20%20%20%20%20%20%20print%28i,%20j%29&codeDivHeight=400&codeDivWidth=350&cumulative=false&curInstr=0&heapPrimitives=nevernest&origin=opt-frontend.js&py=3&rawInputLstJSON=%5B%5D&textReferences=false\"> </iframe>"
   ]
  },
  {
   "cell_type": "markdown",
   "id": "ad4eee36-8f4b-4c48-a5d6-7747dd2d6321",
   "metadata": {},
   "source": [
    "Our goal with image processing is to visit each pixel. We will use an iteration to process each row. Within that iteration, we will use a nested iteration to process each column. The result is a nested iteration, similar to the one seen above, where the outer for loop processes the rows, from 0 up to but not including the height of the image. The inner for loop will process each column of a row, again from 0 up to but not including the width of the image.\n",
    "\n",
    "The resulting code will look like the following. We are now free to do anything we wish to each pixel in the image.\n",
    "\n",
    "```python\n",
    "for row in range(img.height):\n",
    "    for col in range(img.width):\n",
    "        pix = img.get_pixel(col, row)\n",
    "        \n",
    "        # do something with the selected pixel...\n",
    "```\n",
    "\n",
    "The following two code blocks create a 10x5 black picture then updates the pixel colors to create a color gradient effect.\n",
    "\n",
    "- The red intensity of a pixel is based on how close the pixel is to the right side of the picture.\n",
    "- The green intensity of a pixel is based on how close the pixel is to the bottom of the picture.\n",
    "- The blue intensity is set to 150.\n",
    "\n",
    "The second code block adds a short pause after updating each pixel so you can watch how each pixel changes as we progress through nested iteration. Make sure you are looking at the image while the second block is running."
   ]
  },
  {
   "cell_type": "code",
   "execution_count": null,
   "id": "9c4aac40-25f8-484e-acd5-426518fc97a1",
   "metadata": {},
   "outputs": [],
   "source": [
    "%matplotlib widget\n",
    "\n",
    "import comp110_image\n",
    "import time\n",
    "\n",
    "pic = comp110_image.Picture(10, 5)\n",
    "\n",
    "pic.show() # show the unedited (all black) image"
   ]
  },
  {
   "cell_type": "code",
   "execution_count": null,
   "id": "71968e87-ba1e-4776-b3c7-0e6b84e70131",
   "metadata": {},
   "outputs": [],
   "source": [
    "# create color gradient in picture\n",
    "for x in range(pic.width):\n",
    "    for y in range(pic.height):\n",
    "        pix = pic.get_pixel(x,y)\n",
    "        pix.red = (x*255)//(pic.width-1)  # red increases as you get closer to the right side\n",
    "        pix.green = (y*255)//(pic.height-1) # green increases as you get closer to the bottom\n",
    "        pix.blue = 150\n",
    "        \n",
    "        pic.show() # show the updated version of the picture\n",
    "        \n",
    "        time.sleep(0.001) # pause the program for 0.001 seconds to allow us to view the current pic\n",
    "\n",
    "pic.show()"
   ]
  },
  {
   "cell_type": "markdown",
   "id": "8b19e703-d5c9-4d20-997a-5284434f2cb9",
   "metadata": {},
   "source": [
    "You should have noticed that the first column is filled in (top to bottom), then the second column, etc. This is because the `for y` was the inner iteration meaning that the row changed faster than the column.\n",
    "\n",
    "Switch the order of the nested loops so that the `for y` is the outer iteration while `for x` is the inner iteration and run **both** code blocks again. You should see that now the first row is completed (left to right) before moving on to the second row, and so on."
   ]
  },
  {
   "cell_type": "markdown",
   "id": "7768f310-4e34-4f50-8438-f6127ee606db",
   "metadata": {
    "tags": []
   },
   "source": [
    "### Negative Images\n",
    "\n",
    "One of the easiest image processing algorithms will create what is known as a **negative image**. A negative image simply means that each pixel will be the opposite of what it was originally. But what does opposite mean?\n",
    "\n",
    "In the RGB color model, we can consider the opposite of the red component as the difference between the original red and 255. For example, if the original red component was 50, then the opposite, or negative red value would be 255-50 or 205. In other words, pixels with a lot of red will have negatives with little red and pixels with little red will have negatives with a lot. We do the same for the blue and green as well.\n",
    "\n",
    "The program below implements this algorithm using the previous image (usd-medallion.png). Run it to see the resulting negative image. Note that there is a lot of processing taking place and this may take a few seconds to complete."
   ]
  },
  {
   "cell_type": "code",
   "execution_count": null,
   "id": "6f79453b-a86a-43a8-99ce-d20f3d054bfa",
   "metadata": {},
   "outputs": [],
   "source": [
    "import comp110_image\n",
    "\n",
    "img = comp110_image.Picture(filename=\"figures/usd-medallion.png\")\n",
    "\n",
    "for row in range(img.height):\n",
    "    for col in range(img.width):\n",
    "        pix = img.get_pixel(col, row)\n",
    "\n",
    "        pix.red = 255 - pix.red\n",
    "        pix.green = 255 - pix.green\n",
    "        pix.blue = 255 - pix.blue\n",
    "\n",
    "img.show()"
   ]
  },
  {
   "cell_type": "markdown",
   "id": "c89c22c6-07e1-4a29-a173-b80ea52ee626",
   "metadata": {},
   "source": [
    "In addition, here are two other images that you can use (cy.png and goldygopher.png).\n",
    "\n",
    "![cy.png](figures/cy.png) ![goldygopher.png](figures/goldygopher.png)\n",
    "\n",
    "Change the `filename` parameter in the code above to see how these images look as negatives."
   ]
  },
  {
   "cell_type": "markdown",
   "id": "d6ebefc1-cd92-40aa-9849-75b96435f24b",
   "metadata": {},
   "source": [
    "#### Tracing the Example\n",
    "\n",
    "Let’s take a closer look at the code.\n",
    "\n",
    "- After importing the `comp110_image` module (Line 1), we create a picture object called `img` that represents a typical digital photo (Line 3).\n",
    "\n",
    "- Lines 5 and 6 create the nested iteration that we discussed earlier. This allows us to process each pixel in the image. \n",
    "\n",
    "- Line 7 gets an individual pixel (`pix`).\n",
    "\n",
    "- Lines 12 to 14 create the negative intensity values by setting the intensity to the original intensity value minus 255.\n",
    "\n",
    "Try to change the program above so that the outer loop iterates over the columns and the inner loop iterates over the rows. The final result should look exactly the same.\n",
    "\n",
    "\n",
    "### Other pixel manipulation\n",
    "\n",
    "There are a number of different image processing algorithms that follow the same pattern as shown above. Namely, use nested iteration to loop through all pixels in the picture, get a pixel, and update the pixel's red, green, and blue intensities as desired.\n",
    "\n",
    "For example, you can create a gray scale pixel by averaging the red, green and blue intensities and then using that value for all intensities.\n",
    "\n",
    "From the gray scale you can create black white by setting a threshold and selecting to either insert a white pixel or a black pixel into the empty image.\n",
    "\n",
    "You can also do some complex arithmetic and create interesting effects, such as [Sepia Tone](http://en.wikipedia.org/wiki/Sepia_tone#Sepia_toning).\n",
    "\n",
    "\n",
    "## Transforming Pictures\n",
    "\n",
    "Sometimes we want to modify a picture in a way that doesn't involve updating its colors. For example, we might want to mirror an image, rotate it left or right, or create a cropped version of an image. Each of these transformations will require us to copy pixels from on picture to another or to different locations in the same picture.\n",
    "\n",
    "To get started, we will define a simple picture to explore these transformations."
   ]
  },
  {
   "cell_type": "code",
   "execution_count": null,
   "id": "4f724187-1461-45fe-9aa1-ee0a2a6803f7",
   "metadata": {},
   "outputs": [],
   "source": [
    "import comp110_image\n",
    "\n",
    "original_pic = comp110_image.Picture(3, 2)\n",
    "\n",
    "# set all the pixels to some simple colors\n",
    "original_pic.get_pixel(0, 0).color = [255, 0, 0]\n",
    "original_pic.get_pixel(1, 0).color = [0, 255, 0]\n",
    "original_pic.get_pixel(2, 0).color = [0, 0, 255]\n",
    "original_pic.get_pixel(0, 1).color = [255, 255, 0]\n",
    "original_pic.get_pixel(1, 1).color = [0, 255, 255]\n",
    "original_pic.get_pixel(2, 1).color = [255, 0, 255]\n",
    "\n",
    "original_pic.show()"
   ]
  },
  {
   "cell_type": "markdown",
   "id": "b60af171-14a3-44cb-9ac9-ff0b9bb1b881",
   "metadata": {},
   "source": [
    "### Flipping an Image\n",
    "\n",
    "The first transformation we will examine is **flipping**. This effect will be similar to looking into a mirror, which flips your left and right sides. When flipping the original pic above, we would expect the top left (red) and top right (blue) pixels to have their colors **swapped**. Similarly, the bottom left and right pixel colors would be swapped. In pictures with an odd width like the pic above, the middle column doesn't need to change.\n",
    "\n",
    "For this and other transformations, we will be working with pairs of pixels each time (e.g. upper left and upper right). We will use nested loops to generate the (x,y) coordinate of one of these pixels but we will need to come up with an equation to determine the paired pixel's location. The equation to use will vary with each transformation and may not be obvious. These equations will generally only require the original (x,y) coordinate and the width and height of the image, which should help us determine them.\n",
    "\n",
    "For flipping, we start with a simple observation that the left and right paired pixels are always in the same row so they will have the same y value ($y_r = y_l$). We can also observe that the pixels are always the same distance from the edge of the image. For example, when the left pixel is on the left edge ($x_l = 0$), the right pixel is on the right edge ($x_r = width - 1$). With this in mind, we can use the following equation to calculate the x value of the right pixel ($x_r$)\n",
    "\n",
    "$$x_r = width - 1 - x_l$$\n",
    "\n",
    "Putting these obversations together, a pixel at coordinate ($x_l$, $y_l$) will be paired with the pixel at coordinate ($width - 1 - x_l$, $y_l$).\n",
    "\n",
    "Let's now look at the code to perform the mirror transformation. Run it and observe the effect."
   ]
  },
  {
   "cell_type": "code",
   "execution_count": null,
   "id": "49b6ef17-7db4-4306-8a32-f661c0c74151",
   "metadata": {},
   "outputs": [],
   "source": [
    "flipped_pic = original_pic.copy()\n",
    "\n",
    "for x in range(flipped_pic.width//2):\n",
    "    for y in range(flipped_pic.height):\n",
    "        # First, get the left and right pixel, using our equation for the right one\n",
    "        left_pixel = flipped_pic.get_pixel(x,y)\n",
    "        right_pixel = flipped_pic.get_pixel(flipped_pic.width - 1 - x, y)\n",
    "        \n",
    "        # Next, we'll swap the colors of the left and right pixels\n",
    "        original_left_color = left_pixel.color\n",
    "        left_pixel.color = right_pixel.color\n",
    "        right_pixel.color = original_left_color\n",
    "        \n",
    "flipped_pic.show()"
   ]
  },
  {
   "cell_type": "markdown",
   "id": "405b22af-a750-4d8f-81d3-96456ff6c0d6",
   "metadata": {},
   "source": [
    "Let's take a moment to talk about a few key parts of this code.\n",
    "\n",
    "- Line 1 creates a copy of the original picture object using the `copy` method. The transformation is then performed on this copy so that the original remains unchanged. This is a common pattern when working with images as it allows us to perform several transformations on the original image.\n",
    "\n",
    "- Lines 3 and 4 are the nested loops meant to generate the coordinates for the left pixel. The `x` and `y` values will correspond to the $x_l$ and $y_l$ values in our discussion above.\n",
    "\n",
    "- On Line 3, notice how the range for `x` is limited to half the width. What would happen if it was changed to be the whole width? Come up with a hypothesis then modify the code and run it again. Was your hypothesis correct?\n",
    "\n",
    "- Lines 10 - 12 perform the swap of the left and right pixel colors. On line 10 we need to save the original color of the left pixel so that when we change it in line 11, we don't lose that original color. What do you think would happen if we replaced `original_left_color` in line 12 with `left_pixel.color`? Try modifying the code and running it to see if your guess was correct."
   ]
  },
  {
   "cell_type": "markdown",
   "id": "9212f483-3b61-4549-a6e7-ceb0ffe4113d",
   "metadata": {},
   "source": [
    "#### More Practice\n",
    "\n",
    "Ready to apply what you just learned? Modify the code below so that it flips the top and bottom halves of the image instead of the left and right halves. Before you start, work out the equations you'll need to compute the coordinate of the paired pixel."
   ]
  },
  {
   "cell_type": "code",
   "execution_count": null,
   "id": "74aba82a-48b1-4610-97d1-e05e1093f0cd",
   "metadata": {},
   "outputs": [],
   "source": [
    "# Modify the following code to make it flip the top and bottom halves\n",
    "flipped_pic = original_pic.copy()\n",
    "\n",
    "for x in range(flipped_pic.width//2):\n",
    "    for y in range(flipped_pic.height):\n",
    "        # First, get the left and right pixel, using our equation for the right one\n",
    "        left_pixel = flipped_pic.get_pixel(x,y)\n",
    "        right_pixel = flipped_pic.get_pixel(flipped_pic.width - 1 - x, y)\n",
    "        \n",
    "        # Next, we'll swap the colors of the left and right pixels\n",
    "        original_left_color = left_pixel.color\n",
    "        left_pixel.color = right_pixel.color\n",
    "        right_pixel.color = original_left_color\n",
    "        \n",
    "flipped_pic.show()"
   ]
  },
  {
   "cell_type": "markdown",
   "id": "2cbd6fa2-619d-4fcf-96a3-acfe4d8867d0",
   "metadata": {},
   "source": [
    "### Rotating an Image\n",
    "\n",
    "The next transformation we will investigate is **image rotation**. We can rotate an image left or right and by various degrees but we will focus our discussion on rotating an image right by 90 degrees. The code below manually creates a rotated version of the original pic to help us visualize this transformation."
   ]
  },
  {
   "cell_type": "code",
   "execution_count": null,
   "id": "24c2fa4b-625c-401b-8d7e-fac3e632d9e2",
   "metadata": {},
   "outputs": [],
   "source": [
    "rotated = comp110_image.Picture(2, 3)\n",
    "\n",
    "# set all the pixels to some simple colors\n",
    "rotated.get_pixel(0, 0).color = [255, 255, 0]  # was (0,1) in the original\n",
    "rotated.get_pixel(1, 0).color = [255, 0, 0]  # was (0,0) in the original\n",
    "rotated.get_pixel(1, 1).color = [0, 255, 0]  # was (1,0) in the original\n",
    "rotated.get_pixel(0, 1).color = [0, 255, 255]  # was (1,1) in the original\n",
    "rotated.get_pixel(0, 2).color = [255, 0, 255]  # was (2,1) in the original\n",
    "rotated.get_pixel(1, 2).color = [0, 0, 255]  # was (2,0) in the original\n",
    "\n",
    "rotated.show()"
   ]
  },
  {
   "cell_type": "markdown",
   "id": "11106b00-271d-4754-8a89-c854604af9d9",
   "metadata": {},
   "source": [
    "Notice how the rotate image's dimensions are the opposite of that of the original; it transformed from a 3x2 image to a 2x3 image.\n",
    "\n",
    "To implement this transformation, once again we'll first determine equations that will help us find the coordinate of each paired pixel. Using the comments on lines 4 - 9, we can see that the y value in the rotated picture is always equal to the x value in the original ($y_r = x_o$). We can further notice that x value of the rotated picture ($x_r$) will be the \"inverse\" of y value in the original ($y_o$). By inverse, we mean that the first _row_ in the original will become the last _column_ in the rotate picture. Similarly, the last row in the original will be the first column in the rotated. Therefore, we can us the following equation for $x_r$:\n",
    "\n",
    "$$x_r = height_o - 1 - y_o$$\n",
    "\n",
    "where $height_o$ is the height of the original image, which also happens to be the width of the rotated image.\n",
    "\n",
    "We're now ready to examine (and run) the code for the rotation transformation."
   ]
  },
  {
   "cell_type": "code",
   "execution_count": null,
   "id": "02a00a75-481b-4ee6-abb7-22a3c9076752",
   "metadata": {},
   "outputs": [],
   "source": [
    "rotated_pic = comp110_image.Picture(original_pic.height, original_pic.width)\n",
    "\n",
    "for x in range(original_pic.width):\n",
    "    for y in range(original_pic.height):\n",
    "        # First, get the paired pixels (one from the original, and one from the rotated)\n",
    "        pixel1 = original_pic.get_pixel(x,y)\n",
    "        pixel2 = rotated_pic.get_pixel(original_pic.height - 1 - y, x)\n",
    "        \n",
    "        # Next, copy the color from the original pic to the rotated one\n",
    "        pixel2.color = pixel1.color\n",
    "        \n",
    "rotated_pic.show()"
   ]
  },
  {
   "cell_type": "markdown",
   "id": "b978da7e-6cea-42c4-9669-670c0e4206d6",
   "metadata": {
    "tags": []
   },
   "source": [
    "Once again, we'll focus on a few key parts of the code to illuminate how it works.\n",
    "\n",
    "- The rotated image won't have the same dimensions as the original pic so we can't start with a copy of the original. On Line 1, we create a blank image whose width and height are the opposite of the original image.\n",
    "\n",
    "- The nested loops on lines 3 and 4 need to visit all pixel locations in the original image as we need to copy them, one by one, to the rotated pic.\n",
    "\n",
    "- As with mirroring, on lines 6 and 7 we need to get the paired pixels inside of the nested loops. In addition to the updated equation for the second pixel (`pixel2`), notice how the two pixels are in different pictures: `pixel1` is from the original while `pixel2` is from the rotated version.\n",
    "\n",
    "- Unlike mirroring, we don't need to swap pixel colors. Instead, we can use a single line of code (line 10) to _copy_ the color of `pixel1` to `pixel2`.\n",
    "\n",
    "\n",
    "#### More Practice\n",
    "\n",
    "Ready to apply what you just learned? Modify the code below so that it rotates the image left by 90 degrees. Before you start, work out the equations you'll need to compute the coordinate of the paired pixel."
   ]
  },
  {
   "cell_type": "code",
   "execution_count": null,
   "id": "90f51c74-9039-4b93-aab6-a3d864758809",
   "metadata": {},
   "outputs": [],
   "source": [
    "# Modify the following code to make the image rotate LEFT by 90 degrees\n",
    "\n",
    "rotated_pic = comp110_image.Picture(original_pic.height, original_pic.width)\n",
    "\n",
    "for x in range(original_pic.width):\n",
    "    for y in range(original_pic.height):\n",
    "        # First, get the paired pixels (one from the original, and one from the rotated)\n",
    "        pixel1 = original_pic.get_pixel(x,y)\n",
    "        pixel2 = rotated_pic.get_pixel(original_pic.height - 1 - y, x)\n",
    "        \n",
    "        # Next, copy the color from the original pic to the rotated one\n",
    "        pixel2.color = pixel1.color\n",
    "        \n",
    "rotated_pic.show()"
   ]
  },
  {
   "cell_type": "markdown",
   "id": "8b34fde0-3dbf-42c1-a97c-e14484785227",
   "metadata": {},
   "source": [
    "## Summary\n",
    "\n",
    "In this reading you have learned how digital images are represented and how to use the `comp110_image` module. Below is a brief recap of the useful methods and attributes of this model.\n",
    "\n",
    "### Pixel Objects\n",
    "\n",
    "- Attributes:\n",
    "    - `red`: The red intensity of the pixel (0 to 255)\n",
    "    - `green`: The green intensity of the pixel (0 to 255)\n",
    "    - `blue`: The blue intensity of the pixel (0 to 255)\n",
    "    - `color`: A list of the red, green, and blue intensities.\n",
    "    \n",
    "- Creating:\n",
    "    - `comp110_image.Pixel(color)`: Creates a new Pixel with the given color, which should be a list containing the red, green, and blue intensities.\n",
    "    \n",
    "### Picture Objects\n",
    "\n",
    "- Attributes:\n",
    "    - `width`: The number of columns in the picture.\n",
    "    - `height`: The number of rows in the picture.\n",
    "\n",
    "- Methods:\n",
    "    - `get_pixel(x,y)`: Returns the pixel located at coordinate (x,y) in the picture.\n",
    "    - `copy()`: Returns a copy of the picture object.\n",
    "    - `show()`: Displays the picture object.\n",
    "    \n",
    "- Creating:\n",
    "    - `comp110_image.Picture(filename=\"funny.jpg\")`: Creates a new Picture based on the data stored in the specified file.\n",
    "    - `comp110_image.Picture(width, height)`: Creates a new Picture with the given width and height. All pixels will be black."
   ]
  },
  {
   "cell_type": "code",
   "execution_count": null,
   "id": "0f0b1dc6-a5b1-46dc-8271-e7c13be06b56",
   "metadata": {},
   "outputs": [],
   "source": []
  }
 ],
 "metadata": {
  "kernelspec": {
   "display_name": "Python 3 (ipykernel)",
   "language": "python",
   "name": "python3"
  },
  "language_info": {
   "codemirror_mode": {
    "name": "ipython",
    "version": 3
   },
   "file_extension": ".py",
   "mimetype": "text/x-python",
   "name": "python",
   "nbconvert_exporter": "python",
   "pygments_lexer": "ipython3",
   "version": "3.8.5"
  }
 },
 "nbformat": 4,
 "nbformat_minor": 5
}
